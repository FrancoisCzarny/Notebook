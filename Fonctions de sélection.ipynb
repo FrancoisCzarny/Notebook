{
 "cells": [
  {
   "cell_type": "code",
   "execution_count": 1,
   "metadata": {
    "collapsed": true
   },
   "outputs": [],
   "source": [
    "#!/Users/francoisczarny/anaconda/bin/python2.7\n",
    "#-*-coding : utf-8-*\n",
    "\n",
    "import pandas as pd\n",
    "import numpy as np\n",
    "import matplotlib.pyplot as plt\n",
    "import seaborn as sns\n",
    "\n",
    "%matplotlib inline"
   ]
  },
  {
   "cell_type": "markdown",
   "metadata": {},
   "source": [
    "#### Import jeu de données pour le test de la fonction : "
   ]
  },
  {
   "cell_type": "code",
   "execution_count": 2,
   "metadata": {
    "collapsed": false
   },
   "outputs": [],
   "source": [
    "my_path = \"/Users/francoisczarny/Documents/Cours_M2/analyse de donnees (B.michel)/projet ECG\"\n",
    "data_path_train = my_path + \"/input_training.csv\"\n",
    "check_res = my_path + \"/training_output.csv\"\n",
    "\n",
    "x_train = pd.read_csv(data_path_train, header = 0, index_col=0)\n",
    "y_train = pd.read_csv(check_res,sep=\";\", header = 0, index_col=0)"
   ]
  },
  {
   "cell_type": "markdown",
   "metadata": {},
   "source": [
    "## Définition de la fonction classifier dans le cadre de classifications supervisées : \n",
    "\n",
    "Cellule suivante utile pour essayé l'intégration d'un nouveau classifier"
   ]
  },
  {
   "cell_type": "raw",
   "metadata": {
    "collapsed": true
   },
   "source": [
    "from sklearn.ensemble import RandomForestClassifier, AdaBoostClassifier, ExtraTreesClassifier, GradientBoostingClassifier\n",
    "from sklearn.svm import SVC\n",
    "from sklearn.linear_model import LogisticRegression\n",
    "from sklearn.tree import DecisionTreeClassifier       # ajout d'autre \n",
    "from sklearn.neighbors import KNeighborsClassifier\n",
    "from sklearn.neighbors.nearest_centroid import NearestCentroid\n",
    "# from sklearn.linear_model import SGDClassifier\n",
    "from sklearn.gaussian_process import GaussianProcessClassifier\n",
    "from sklearn.neural_network import MLPClassifier\n",
    "\n",
    "import sklearn.cross_validation as cv\n",
    "    \n",
    "RF, GB, ada = RandomForestClassifier(), GradientBoostingClassifier(), AdaBoostClassifier()\n",
    "ET, svc, LR, DT = ExtraTreesClassifier(), SVC(), LogisticRegression(), DecisionTreeClassifier()\n",
    "KNN = KNeighborsClassifier()\n",
    "GPC = GaussianProcessClassifier()\n",
    "MLP = MLPClassifier()\n",
    "KNNCentroid = NearestCentroid()\n",
    "\n",
    "list_clf = [RF, ada, ET, svc, DT, KNNCentroid]\n",
    "    \n",
    "scores = {}\n",
    "for clf in list_clf:\n",
    "    scores[str(clf).split('(')[0]] = cv.cross_val_score(clf, x_train, list(y_train['TARGET']), cv = 3, n_jobs=2).mean()\n",
    "\n",
    "pd.DataFrame([scores]).T"
   ]
  },
  {
   "cell_type": "code",
   "execution_count": 40,
   "metadata": {
    "collapsed": false
   },
   "outputs": [],
   "source": [
    "def select_classifier(x_train, y_train, nb_cv=3, type_scoring = None, print_graph = True):\n",
    "    \"\"\"\n",
    "    Input : - pd.DataFrame : table sur laquelle on effectue le clustering privé de la colonne des labels.\n",
    "            - list : liste des classe auxquelles appartiennent les observations\n",
    "            - int : nombre de cross-validation à effectuer, 3 par défaut.\n",
    "            - scoring method : méthode de scoring répertoriée dans scikit-learn, None par défaut.\n",
    "            - bool : Précise si l'on veut afficher le graph comparatif des différentes méthode de classification.\n",
    "    \n",
    "    Description : renvoie une table des scores réalisés par les classifiers avec le score de silhouette et le VIF. \n",
    "    \n",
    "    Output : pd.DataFrame (ou un graph)\n",
    "    \"\"\"\n",
    "    # import de tous les classifiers nécessaires à la comparaison : \n",
    "    from sklearn.ensemble import RandomForestClassifier, AdaBoostClassifier, ExtraTreesClassifier, GradientBoostingClassifier\n",
    "    from sklearn.svm import SVC\n",
    "    from sklearn.linear_model import LogisticRegression\n",
    "    from sklearn.tree import DecisionTreeClassifier       # ajout d'autre \n",
    "    from sklearn.neighbors import KNeighborsClassifier\n",
    "    from sklearn.neighbors.nearest_centroid import NearestCentroid\n",
    "    from sklearn.gaussian_process import GaussianProcessClassifier\n",
    "    from sklearn.neural_network import MLPClassifier\n",
    "    \n",
    "    import sklearn.cross_validation as cv\n",
    "    \n",
    "    # dictionnaire destiné à contenir les scores : \n",
    "    scores = {}\n",
    "    # Entrainement des différents classifier : \n",
    "    RF, GB, ada = RandomForestClassifier(), GradientBoostingClassifier(), AdaBoostClassifier()\n",
    "    ET, svc, LR, DT = ExtraTreesClassifier(), SVC(), LogisticRegression(), DecisionTreeClassifier()\n",
    "    KNN, GPC, MLP = KNeighborsClassifier(), GaussianProcessClassifier(), MLPClassifier()\n",
    "    KNCentroid = NearestCentroid()\n",
    "    # On stocke les classifier dans une liste : \n",
    "    list_clf = [ RF, GB, ada, ET, svc, LR, DT, KNN, GPC, MLP, KNCentroid]\n",
    "    # On calcule les score ainsi obtenus : \n",
    "    scores = {}\n",
    "    for clf in list_clf:\n",
    "        scores[str(clf).split('(')[0]] = cv.cross_val_score(clf, x_train, y_train, cv = nb_cv, n_jobs=2, \\\n",
    "                                                           scoring = type_scoring).mean()\n",
    "    # plot le graph comparatif des scores entre chaque classifier : \n",
    "    if print_graph == True : \n",
    "        pd.DataFrame([scores]).plot(kind = \"bar\", \\\n",
    "                                    color = plt.cm.rainbow(np.linspace(0, 1, len(scores))),\\\n",
    "                                    figsize = (20,10))\n",
    "        \n",
    "    DF_sc = pd.DataFrame([scores], index=['score']).T\n",
    "    \n",
    "    return DF_sc.sort_values('score', ascending = False)"
   ]
  },
  {
   "cell_type": "markdown",
   "metadata": {},
   "source": [
    "##### Test sur un dataset à deux classes : "
   ]
  },
  {
   "cell_type": "code",
   "execution_count": 41,
   "metadata": {
    "collapsed": false,
    "scrolled": false
   },
   "outputs": [
    {
     "data": {
      "text/html": [
       "<div>\n",
       "<table border=\"1\" class=\"dataframe\">\n",
       "  <thead>\n",
       "    <tr style=\"text-align: right;\">\n",
       "      <th></th>\n",
       "      <th>score</th>\n",
       "    </tr>\n",
       "  </thead>\n",
       "  <tbody>\n",
       "    <tr>\n",
       "      <th>GradientBoostingClassifier</th>\n",
       "      <td>0.728000</td>\n",
       "    </tr>\n",
       "    <tr>\n",
       "      <th>AdaBoostClassifier</th>\n",
       "      <td>0.673967</td>\n",
       "    </tr>\n",
       "    <tr>\n",
       "      <th>RandomForestClassifier</th>\n",
       "      <td>0.635030</td>\n",
       "    </tr>\n",
       "    <tr>\n",
       "      <th>ExtraTreesClassifier</th>\n",
       "      <td>0.633963</td>\n",
       "    </tr>\n",
       "    <tr>\n",
       "      <th>MLPClassifier</th>\n",
       "      <td>0.628970</td>\n",
       "    </tr>\n",
       "    <tr>\n",
       "      <th>LogisticRegression</th>\n",
       "      <td>0.591981</td>\n",
       "    </tr>\n",
       "    <tr>\n",
       "      <th>NearestCentroid</th>\n",
       "      <td>0.586014</td>\n",
       "    </tr>\n",
       "    <tr>\n",
       "      <th>KNeighborsClassifier</th>\n",
       "      <td>0.580976</td>\n",
       "    </tr>\n",
       "    <tr>\n",
       "      <th>DecisionTreeClassifier</th>\n",
       "      <td>0.572971</td>\n",
       "    </tr>\n",
       "    <tr>\n",
       "      <th>GaussianProcessClassifier</th>\n",
       "      <td>0.544964</td>\n",
       "    </tr>\n",
       "    <tr>\n",
       "      <th>SVC</th>\n",
       "      <td>0.510001</td>\n",
       "    </tr>\n",
       "  </tbody>\n",
       "</table>\n",
       "</div>"
      ],
      "text/plain": [
       "                               score\n",
       "GradientBoostingClassifier  0.728000\n",
       "AdaBoostClassifier          0.673967\n",
       "RandomForestClassifier      0.635030\n",
       "ExtraTreesClassifier        0.633963\n",
       "MLPClassifier               0.628970\n",
       "LogisticRegression          0.591981\n",
       "NearestCentroid             0.586014\n",
       "KNeighborsClassifier        0.580976\n",
       "DecisionTreeClassifier      0.572971\n",
       "GaussianProcessClassifier   0.544964\n",
       "SVC                         0.510001"
      ]
     },
     "execution_count": 41,
     "metadata": {},
     "output_type": "execute_result"
    },
    {
     "data": {
      "image/png": "[encoded data removed]",
      "text/plain": [
       "<matplotlib.figure.Figure at 0x11a845350>"
      ]
     },
     "metadata": {},
     "output_type": "display_data"
    }
   ],
   "source": [
    "select_classifier(x_train, list(y_train['TARGET']), print_graph=True)"
   ]
  },
  {
   "cell_type": "code",
   "execution_count": 24,
   "metadata": {
    "collapsed": false
   },
   "outputs": [
    {
     "name": "stdout",
     "output_type": "stream",
     "text": [
      "The slowest run took 5.02 times longer than the fastest. This could mean that an intermediate result is being cached.\n",
      "1 loop, best of 3: 3min 38s per loop\n"
     ]
    }
   ],
   "source": [
    "%timeit select_classifier(x_train, list(y_train['TARGET']), print_graph=False)"
   ]
  },
  {
   "cell_type": "markdown",
   "metadata": {},
   "source": [
    "##### Test sur un data set multi classes : "
   ]
  },
  {
   "cell_type": "code",
   "execution_count": 42,
   "metadata": {
    "collapsed": true
   },
   "outputs": [],
   "source": [
    "# Test sur un sample multiclasses : \n",
    "from sklearn.datasets import make_classification\n",
    "\n",
    "Xtest, Ytest = make_classification(n_samples=100, n_features=100, n_informative=30, n_classes=4, random_state=1)"
   ]
  },
  {
   "cell_type": "code",
   "execution_count": 44,
   "metadata": {
    "collapsed": false
   },
   "outputs": [
    {
     "data": {
      "text/html": [
       "<div>\n",
       "<table border=\"1\" class=\"dataframe\">\n",
       "  <thead>\n",
       "    <tr style=\"text-align: right;\">\n",
       "      <th></th>\n",
       "      <th>score</th>\n",
       "    </tr>\n",
       "  </thead>\n",
       "  <tbody>\n",
       "    <tr>\n",
       "      <th>LogisticRegression</th>\n",
       "      <td>0.570418</td>\n",
       "    </tr>\n",
       "    <tr>\n",
       "      <th>NearestCentroid</th>\n",
       "      <td>0.493759</td>\n",
       "    </tr>\n",
       "    <tr>\n",
       "      <th>MLPClassifier</th>\n",
       "      <td>0.487509</td>\n",
       "    </tr>\n",
       "    <tr>\n",
       "      <th>KNeighborsClassifier</th>\n",
       "      <td>0.478878</td>\n",
       "    </tr>\n",
       "    <tr>\n",
       "      <th>ExtraTreesClassifier</th>\n",
       "      <td>0.379230</td>\n",
       "    </tr>\n",
       "    <tr>\n",
       "      <th>GradientBoostingClassifier</th>\n",
       "      <td>0.348088</td>\n",
       "    </tr>\n",
       "    <tr>\n",
       "      <th>AdaBoostClassifier</th>\n",
       "      <td>0.329248</td>\n",
       "    </tr>\n",
       "    <tr>\n",
       "      <th>SVC</th>\n",
       "      <td>0.312040</td>\n",
       "    </tr>\n",
       "    <tr>\n",
       "      <th>DecisionTreeClassifier</th>\n",
       "      <td>0.288844</td>\n",
       "    </tr>\n",
       "    <tr>\n",
       "      <th>RandomForestClassifier</th>\n",
       "      <td>0.281683</td>\n",
       "    </tr>\n",
       "    <tr>\n",
       "      <th>GaussianProcessClassifier</th>\n",
       "      <td>0.270373</td>\n",
       "    </tr>\n",
       "  </tbody>\n",
       "</table>\n",
       "</div>"
      ],
      "text/plain": [
       "                               score\n",
       "LogisticRegression          0.570418\n",
       "NearestCentroid             0.493759\n",
       "MLPClassifier               0.487509\n",
       "KNeighborsClassifier        0.478878\n",
       "ExtraTreesClassifier        0.379230\n",
       "GradientBoostingClassifier  0.348088\n",
       "AdaBoostClassifier          0.329248\n",
       "SVC                         0.312040\n",
       "DecisionTreeClassifier      0.288844\n",
       "RandomForestClassifier      0.281683\n",
       "GaussianProcessClassifier   0.270373"
      ]
     },
     "execution_count": 44,
     "metadata": {},
     "output_type": "execute_result"
    },
    {
     "data": {
      "image/png": "[encoded data removed]",
      "text/plain": [
       "<matplotlib.figure.Figure at 0x11a66a4d0>"
      ]
     },
     "metadata": {},
     "output_type": "display_data"
    }
   ],
   "source": [
    "select_classifier(Xtest, Ytest)"
   ]
  },
  {
   "cell_type": "markdown",
   "metadata": {},
   "source": [
    "## Définition de la fonction pour le choix de l'algo de clustering sur la base des scores de silhouette ou du VIF :\n",
    "\n",
    "A la différence du précédent celui-ci s'utilisera dans le cadre de la classification non-supervisée"
   ]
  },
  {
   "cell_type": "code",
   "execution_count": null,
   "metadata": {
    "collapsed": true
   },
   "outputs": [],
   "source": [
    "def select_clust(x_train):\n",
    "    \"\"\"\n",
    "    Input : pd.DataFrame des données à \"clusteriser\"\n",
    "    \n",
    "    Description : Renvoie les scores de silhouette et du VIF associé aux clustering\n",
    "    \n",
    "    Output : pd.DataFrame des scores\n",
    "    \"\"\"\n",
    "    pass"
   ]
  },
  {
   "cell_type": "markdown",
   "metadata": {},
   "source": [
    "#### Définition de la fonction de choix d'un régresseur sur les données : \n",
    "\n",
    "Ici, l'erreur sera sous-estimée car on ne calculera l'erreur qu'avec le train set. Ainsi, les scores affichier seront surévalués pour que cela ne prenne pas un temps trop long."
   ]
  },
  {
   "cell_type": "code",
   "execution_count": null,
   "metadata": {
    "collapsed": true
   },
   "outputs": [],
   "source": [
    "def select_regressor(x_train, y_train):\n",
    "    \"\"\"\n",
    "    Input : -\n",
    "            -\n",
    "    \n",
    "    Description :\n",
    "    \n",
    "    Output : \n",
    "    \"\"\"\n",
    "    pass"
   ]
  },
  {
   "cell_type": "markdown",
   "metadata": {},
   "source": [
    "#### Définition de la fonction features selection : "
   ]
  },
  {
   "cell_type": "code",
   "execution_count": 3,
   "metadata": {
    "collapsed": true
   },
   "outputs": [],
   "source": [
    "def select_features():\n",
    "    \"\"\"\n",
    "    Input : \n",
    "    \n",
    "    Description : \n",
    "    \n",
    "    Output : \n",
    "    \"\"\"\n",
    "    pass"
   ]
  }
 ],
 "metadata": {
  "anaconda-cloud": {},
  "kernelspec": {
   "display_name": "Python [default]",
   "language": "python",
   "name": "python2"
  },
  "language_info": {
   "codemirror_mode": {
    "name": "ipython",
    "version": 2
   },
   "file_extension": ".py",
   "mimetype": "text/x-python",
   "name": "python",
   "nbconvert_exporter": "python",
   "pygments_lexer": "ipython2",
   "version": "2.7.12"
  }
 },
 "nbformat": 4,
 "nbformat_minor": 0
}
